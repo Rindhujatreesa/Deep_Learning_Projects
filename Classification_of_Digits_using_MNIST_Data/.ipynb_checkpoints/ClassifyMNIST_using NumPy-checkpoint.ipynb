{
 "cells": [
  {
   "cell_type": "markdown",
   "metadata": {
    "id": "DlLCK6UgrrpW"
   },
   "source": [
    "# Classify the 10 digits using MNIST data\n",
    "\n",
    "Implement a convolutional neural network using `NumPy`ONLY to classify the digits. \n",
    "\n",
    "## Data Description\n",
    "[MNIST](https://en.wikipedia.org/wiki/MNIST_database)"
   ]
  },
  {
   "cell_type": "markdown",
   "metadata": {},
   "source": [
    "# 1. Data Extraction and Preprocessing"
   ]
  },
  {
   "cell_type": "markdown",
   "metadata": {},
   "source": [
    "### 1.1 Data Extraction"
   ]
  },
  {
   "cell_type": "code",
   "execution_count": 1,
   "metadata": {
    "id": "ohha6cR7ufYF"
   },
   "outputs": [],
   "source": [
    "# load the mnist data\n",
    "from sklearn.datasets import fetch_openml\n",
    "import numpy as np"
   ]
  },
  {
   "cell_type": "code",
   "execution_count": 2,
   "metadata": {
    "colab": {
     "base_uri": "https://localhost:8080/"
    },
    "id": "ChXaGZKCulwM",
    "outputId": "a0f4d5ca-0bdb-4186-e16c-8f308bbf874a"
   },
   "outputs": [],
   "source": [
    "mnist_28 = fetch_openml('mnist_784', parser = 'auto') #fetch the mnist_784 dataset using the fetch_openml API and store it in a variable "
   ]
  },
  {
   "cell_type": "code",
   "execution_count": 1,
   "metadata": {
    "colab": {
     "base_uri": "https://localhost:8080/"
    },
    "id": "ar7Bie1YeZqR",
    "outputId": "ba7fd8fb-9cdd-464e-b415-773d841a9ebf"
   },
   "outputs": [],
   "source": [
    "#mnist_28 #visualize the data stored in the variable"
   ]
  },
  {
   "cell_type": "code",
   "execution_count": 27,
   "metadata": {
    "id": "rdg9fXJLvBJL"
   },
   "outputs": [],
   "source": [
    "mnist_28_img= mnist_28.data.to_numpy() #Convert the 'data' key in the dataset into a numpy array\n",
    "#The mnist_28.data consists of 784-pixel values "
   ]
  },
  {
   "cell_type": "code",
   "execution_count": 28,
   "metadata": {
    "colab": {
     "base_uri": "https://localhost:8080/"
    },
    "id": "bX8G-CwQvHcE",
    "outputId": "aa970aa2-9894-4b91-cea7-6423bcafa4ea"
   },
   "outputs": [
    {
     "data": {
      "text/plain": [
       "(70000, 784)"
      ]
     },
     "execution_count": 28,
     "metadata": {},
     "output_type": "execute_result"
    }
   ],
   "source": [
    "mnist_28_img.shape #The shape of the numpy array "
   ]
  },
  {
   "cell_type": "code",
   "execution_count": 7,
   "metadata": {
    "id": "smYgTNmovS5f"
   },
   "outputs": [],
   "source": [
    "#let us display one image from the data set\n",
    "import matplotlib.pyplot as plt"
   ]
  },
  {
   "cell_type": "code",
   "execution_count": 8,
   "metadata": {
    "colab": {
     "base_uri": "https://localhost:8080/",
     "height": 447
    },
    "id": "Hw6NxBBJvajw",
    "outputId": "7d66446b-e738-494a-b5e9-42adde067bf5"
   },
   "outputs": [
    {
     "data": {
      "text/plain": [
       "<matplotlib.image.AxesImage at 0x1de3003f150>"
      ]
     },
     "execution_count": 8,
     "metadata": {},
     "output_type": "execute_result"
    },
    {
     "data": {
      "image/png": "[encoded data removed]",
      "text/plain": [
       "<Figure size 640x480 with 1 Axes>"
      ]
     },
     "metadata": {},
     "output_type": "display_data"
    }
   ],
   "source": [
    "plt.imshow((mnist_28_img[1]).reshape(28,28), cmap=plt.cm.gray) #inorder to display the image, we have to convert the 1-D array into a\n",
    "# a matrix of 28 by 28"
   ]
  },
  {
   "cell_type": "markdown",
   "metadata": {
    "id": "hwYVxaE6K0_K"
   },
   "source": [
    "### 1.2 Tasks  \n",
    "\n",
    "1) Data Pre-Processing\n",
    "\n",
    " - Reshaping each row in (28, 28) shaped array\n",
    " - Splitting the data set into training and testing sets\n",
    " - One-hot Encoding for the classification\n",
    "\n",
    "2) Defining Function classes for CNN\n",
    "\n",
    " - Linear Layer\n",
    " - ReLU Layer\n",
    " - Softmax activation With Cross Entropy Loss\n",
    " - 2D - Convolution\n",
    " - 2D Max Pooling\n",
    " - Stochastic Gradient Descent Optimization\n",
    "\n",
    "3) Training and Testing Model\n",
    "\n"
   ]
  },
  {
   "cell_type": "markdown",
   "metadata": {},
   "source": [
    "### 1.3 Data Preprocessing - Split and Reshape"
   ]
  },
  {
   "cell_type": "code",
   "execution_count": 29,
   "metadata": {
    "id": "CFj2CVqVRWFE"
   },
   "outputs": [],
   "source": [
    "# Split the dataset and reshape the images\n",
    "X_train = mnist_28_img[0:60000][:].reshape(-1, 28, 28, 1) #The train data set\n",
    "X_test = mnist_28_img[60000:][:].reshape(-1, 28, 28, 1) #The test data set"
   ]
  },
  {
   "cell_type": "code",
   "execution_count": 30,
   "metadata": {
    "colab": {
     "base_uri": "https://localhost:8080/"
    },
    "id": "IUcSOVrEwwU5",
    "outputId": "3ed02648-cd42-4758-bc96-3c2ab38478f0"
   },
   "outputs": [
    {
     "name": "stdout",
     "output_type": "stream",
     "text": [
      "X_train shape: (60000, 28, 28, 1)\n",
      "X_test shape: (10000, 28, 28, 1)\n"
     ]
    }
   ],
   "source": [
    "#Print the shapes of the X-values of the train and test data\n",
    "print(\"X_train shape:\", X_train.shape)\n",
    "print(\"X_test shape:\", X_test.shape)"
   ]
  },
  {
   "cell_type": "code",
   "execution_count": 34,
   "metadata": {
    "id": "HL8j5ujX-1sn"
   },
   "outputs": [],
   "source": [
    "# Convert labels to numpy array and then to integers\n",
    "mnist_28_labels = mnist_28.target.to_numpy().astype(int)\n",
    "\n",
    "# Split the labels\n",
    "y_train = mnist_28_labels[0:60000]\n",
    "y_test = mnist_28_labels[60000:]\n"
   ]
  },
  {
   "cell_type": "code",
   "execution_count": 35,
   "metadata": {
    "colab": {
     "base_uri": "https://localhost:8080/"
    },
    "id": "0cRg-SQY-9M3",
    "outputId": "7904d11d-dbbb-492b-b019-118a4aefa730"
   },
   "outputs": [
    {
     "name": "stdout",
     "output_type": "stream",
     "text": [
      "y_train shape: (60000,)\n",
      "y_test shape: (10000,)\n"
     ]
    }
   ],
   "source": [
    "# Print the shapes of the y-values or the target variable of the train and test data sets.\n",
    "print(\"y_train shape:\", y_train.shape)\n",
    "print(\"y_test shape:\", y_test.shape)"
   ]
  },
  {
   "cell_type": "markdown",
   "metadata": {
    "id": "WV72j79Jwq6C"
   },
   "source": [
    "### 1.4 One-Hot Encoding"
   ]
  },
  {
   "cell_type": "code",
   "execution_count": 36,
   "metadata": {
    "id": "U2fY0g-mwqZx"
   },
   "outputs": [],
   "source": [
    "'''\n",
    "One-hot encoding of labels helps represent categorical variables as binary vectors. \n",
    "This enables the machine-learning algorithms to function directly without any bias or incompatibility.\n",
    "Here, we convert each of the digits from 0 to 9 into an array of zeros and ones such that the \n",
    "position in the array where it is equal to the value will be 1 and the rest will be zero.\n",
    "'''\n",
    "def one_hot_encode(labels, num_classes=10):\n",
    "    \"\"\" One-hot encode the labels.\"\"\"\n",
    "    encoded = np.zeros((labels.shape[0], num_classes))\n",
    "    for idx, label in enumerate(labels):\n",
    "        encoded[idx, label] = 1\n",
    "    return encoded"
   ]
  },
  {
   "cell_type": "code",
   "execution_count": 37,
   "metadata": {
    "colab": {
     "base_uri": "https://localhost:8080/"
    },
    "id": "kbWYYnjBxIaR",
    "outputId": "5a7c5d72-1c9d-4a46-c2f1-dc0ba795a5a0"
   },
   "outputs": [
    {
     "name": "stdout",
     "output_type": "stream",
     "text": [
      "y_train shape: (60000, 10)\n",
      "y_test shape: (10000, 10)\n"
     ]
    }
   ],
   "source": [
    "# Implementing the one-hot encoding to target variable\n",
    "y_train = one_hot_encode(y_train)\n",
    "y_test = one_hot_encode(y_test)\n",
    "\n",
    "print(\"y_train shape:\", y_train.shape)\n",
    "print(\"y_test shape:\", y_test.shape)"
   ]
  },
  {
   "cell_type": "markdown",
   "metadata": {
    "id": "ijlbAGXkD9Gg"
   },
   "source": [
    "# 2. Defining Function classes for CNN\n",
    "\n",
    "### 2.1 Linear Layer (Fully Connected)\n",
    "<p>This layer will contain weights and biases. During the forward pass, we'll compute the matrix multiplication and addition:</p>\n",
    "<code>X.W + b</code>\n",
    "\n"
   ]
  },
  {
   "cell_type": "code",
   "execution_count": 38,
   "metadata": {
    "id": "mjgiGfDLxmQY"
   },
   "outputs": [],
   "source": [
    "#Defining the CNN components\n",
    "\n",
    "#Linear Layer (Fully Connected Layer)\n",
    "\n",
    "'''\n",
    "Class variables\n",
    "weights: These are small random values that break symmetry and speed up convergence\n",
    "biases: Initially set to zero, on further movement it is updated to balance.\n",
    "gradients: These are gradients with respect to weights (dw) and biases (db) initialized to None.\n",
    "input variable (z): It is used to store the input for backpropagation.\n",
    "Class functions\n",
    "forward: enables forward propagation of linear layer by returning (X.W + b)\n",
    "backward: enables backpropagation of the linear layer by returning (grad.(W.T))\n",
    "'''\n",
    "class Linear:\n",
    "    def __init__(self, input_dim, output_dim):\n",
    "        self.weights = np.random.randn(input_dim, output_dim) * 0.01\n",
    "        self.biases = np.zeros((1, output_dim))\n",
    "        self.dw = None\n",
    "        self.db = None\n",
    "        self.z = None\n",
    "\n",
    "    def forward(self, x):\n",
    "        self.z = x\n",
    "        return np.dot(x, self.weights) + self.biases\n",
    "\n",
    "    def backward(self, gradient):\n",
    "        #Gradient of weights: dot product of input transposed and incoming gradient\n",
    "        self.dw = np.dot(self.z.T, gradient)\n",
    "        #Gradient of biases: sum the incoming gradient along axis 0 (rows)\n",
    "        self.db = np.sum(gradient, axis=0, keepdims=True)\n",
    "        #Compute gradient with respect to the input to pass to the previous layer\n",
    "        return np.dot(gradient, self.weights.T)"
   ]
  },
  {
   "cell_type": "markdown",
   "metadata": {
    "id": "uCSfKZLjEBvw"
   },
   "source": [
    "### 2.2 ReLU Layer\n",
    "<p>The ReLU (Rectified Linear Unit) activation function will transform input values <code>x</code> to:</p>\n",
    "<code>max(0, x)</code>"
   ]
  },
  {
   "cell_type": "code",
   "execution_count": 39,
   "metadata": {
    "id": "wWxV5aQiDDkI"
   },
   "outputs": [],
   "source": [
    "# ReLU Layer\n",
    "'''\n",
    "Class variables\n",
    "input: initializes the input variable to be none\n",
    "Class functions\n",
    "forward: Forward propagation method for ReLU activation function returning either zero or the input, whichever is the maximum\n",
    "backward: Backward propagation method for ReLU activation function returning gradient * (self.input > 0)\n",
    "'''\n",
    "class ReLU:\n",
    "    def __init__(self):\n",
    "        self.input = None\n",
    "\n",
    "    def forward(self, x):\n",
    "        #Stores the input for later use in backpropagation\n",
    "        self.input = x\n",
    "        #Computes the element-wise maximum of 0 and input x, returning the result\n",
    "        return np.maximum(0, x)\n",
    "\n",
    "    def backward(self, gradient):\n",
    "        # Computes the gradient of the ReLU activation function\n",
    "        # Returns gradient * 1 if input > 0, else returns gradient * 0\n",
    "        #Element-wise multiplication of incoming gradient with the ReLU gradient which is boolean array for input > 0\n",
    "        return gradient * (self.input > 0)"
   ]
  },
  {
   "cell_type": "markdown",
   "metadata": {
    "id": "ZE30CqqnEFkg"
   },
   "source": [
    "### 2.3 Softmax Activation with Cross Entropy Loss\n",
    "<p>After the final layer, we'll use a softmax function to get probability distributions for multi-class classification. The cross-entropy loss will then measure the difference between the predicted and true distributions. The formula for the softmax function for a given input <code>z</code> is:</p>\n",
    "<code>softmax(z<sub>i</sub>) = exp(z<sub>i</sub>) / &Sigma; exp(z<sub>j</sub>)</code>\n",
    "<p>Where the summation is over all classes. The cross-entropy loss for true labels <code>y</code> and predicted probabilities <code>p</code> is:</p>\n",
    "<code>-&Sigma; y<sub>i</sub> log(p<sub>i</sub>)</code>"
   ]
  },
  {
   "cell_type": "code",
   "execution_count": 40,
   "metadata": {
    "id": "R8cP4leBDFcx"
   },
   "outputs": [],
   "source": [
    "# Softmax Activation with Cross Entropy Loss for multi-class classifications\n",
    "'''\n",
    "Class functions\n",
    "forward: computes the Softmax function for the input logits, \n",
    "        calculates probabilities by normalizing the exponentials, \n",
    "        computes the negative log-likelihood loss of the true labels under the predicted probabilities, \n",
    "        and returns the loss normalized by the batch size.\n",
    "backward: computes the gradient of the Softmax Cross-Entropy loss with respect to the predicted probabilities. \n",
    "        It returns the difference between predicted probabilities and true labels, normalized by the batch size, \n",
    "        which is used during backpropagation to update the model's parameters.\n",
    "'''\n",
    "class SoftmaxCrossEntropy:\n",
    "    def __init__(self):\n",
    "        #Initializes variables to store computed probabilities and true labels\n",
    "        self.probabilities = None\n",
    "        self.true_labels = None\n",
    "\n",
    "    def forward(self, logits, labels):\n",
    "        #Compute exponentials of input logits after adjusting for numerical stability\n",
    "        exp_logits = np.exp(logits - np.max(logits, axis=1, keepdims=True))\n",
    "        #Compute probabilities by normalizing the exponentials\n",
    "        self.probabilities = exp_logits / np.sum(exp_logits, axis=1, keepdims=True)\n",
    "        #Store true labels for later use in backpropagation\n",
    "        self.true_labels = labels\n",
    "        #Compute and return the loss: negative log-likelihood of the true labels under the predicted probabilities\n",
    "        return -np.sum(labels * np.log(self.probabilities + 1e-15)) / logits.shape[0]\n",
    "\n",
    "    def backward(self):\n",
    "        #Compute the gradient of the loss with respect to the predicted probabilities\n",
    "        #The gradient is the difference between predicted probabilities and true labels, normalized by the batch size\n",
    "        return (self.probabilities - self.true_labels) / self.true_labels.shape[0]"
   ]
  },
  {
   "cell_type": "markdown",
   "metadata": {
    "id": "oSdxL1pVEKoA"
   },
   "source": [
    "### 2.4 2D - Convolution\n",
    "<p>The convolutional layer will contain filters (or kernels) that will be convolved with the input image to detect patterns. The convolution operation for an input <code>I</code> and a filter <code>F</code> is:</p>\n",
    "<code>(I &ast; F)(x, y) = &Sigma; &Sigma; I(x - i, y - j) F(i, j)</code>"
   ]
  },
  {
   "cell_type": "code",
   "execution_count": 41,
   "metadata": {
    "id": "3rJ9c1N7DHdY"
   },
   "outputs": [],
   "source": [
    "# 2D - Convolution with backward pass (taking channels into account)\n",
    "'''\n",
    "Class functions\n",
    "forward: performs the forward propagation for the convolutional layer, \n",
    "        computing the convolution operation between the input and the filters.\n",
    "backward: performs backpropagation for the convolutional layer, \n",
    "        computing gradients for both filters and the input tensor. \n",
    "        The filters are updated using the computed gradients with a learning rate of 0.01. \n",
    "        The method returns the computed gradients for the input tensor, \n",
    "        which are used for further backpropagation through the network\n",
    "'''\n",
    "class Conv2D:\n",
    "    def __init__(self, num_filters, filter_size, input_channels=1):\n",
    "        #Initializes the convolutional layer with specified number of filters, filter size, and input channels\n",
    "        self.num_filters = num_filters\n",
    "        self.filter_size = filter_size\n",
    "        #Initialize filters with small random values, normalized by 9 for stability\n",
    "        self.filters = np.random.randn(num_filters, filter_size, filter_size, input_channels) / 9\n",
    "        #Variable to store the input for later use in backpropagation\n",
    "        self.input = None\n",
    "\n",
    "    def forward(self, input):\n",
    "        #Store the input for later use in backpropagation\n",
    "        self.input = input\n",
    "        batch_size, h, w, _ = input.shape\n",
    "        #Initialize output tensor with appropriate dimensions\n",
    "        output = np.zeros((batch_size, h - self.filter_size + 1, w - self.filter_size + 1, self.num_filters))\n",
    "\n",
    "        #Perform convolution operation using the initialized filters and input\n",
    "        for b in range(batch_size):\n",
    "            for i in range(output.shape[1]):\n",
    "                for j in range(output.shape[2]):\n",
    "                    for f in range(self.num_filters):\n",
    "                        #Compute the convolution operation and populate the output tensor\n",
    "                        output[b, i, j, f] = np.sum(input[b, i:i+self.filter_size, j:j+self.filter_size] * self.filters[f])\n",
    "        #Return the output tensor after convolution\n",
    "        return output\n",
    "\n",
    "    def backward(self, gradient):\n",
    "        batch_size, h, w, num_filters = gradient.shape\n",
    "        #Initialize gradients for filters and input tensor\n",
    "        d_filters = np.zeros_like(self.filters)\n",
    "        d_input = np.zeros_like(self.input)\n",
    "\n",
    "        #Compute gradients for filters and input tensor during backpropagation\n",
    "        for b in range(batch_size):\n",
    "            for i in range(h):\n",
    "                for j in range(w):\n",
    "                    for f in range(num_filters):\n",
    "                        #Update gradients for filters using the chain rule\n",
    "                        d_filters[f] += gradient[b, i, j, f] * self.input[b, i:i+self.filter_size, j:j+self.filter_size]\n",
    "                        #Update gradients for input tensor using the chain rule\n",
    "                        d_input[b, i:i+self.filter_size, j:j+self.filter_size] += gradient[b, i, j, f] * self.filters[f]\n",
    "\n",
    "        # Update the filters using the computed gradients with a learning rate of 0.01\n",
    "        self.filters -= 0.01 * d_filters\n",
    "\n",
    "        #Return the computed gradients for the input tensor, which will be used for further backpropagation\n",
    "        return d_input\n",
    "\n",
    "# This class now assumes a single channel (grayscale) for the input by default.\n"
   ]
  },
  {
   "cell_type": "markdown",
   "metadata": {
    "id": "FO6WiZQZEN3A"
   },
   "source": [
    "### 2.5 2D Max Pooling\n",
    "<p>Max pooling will downsample the input based on the maximum value in a region. For a given region <code>R</code> in the input:</p>\n",
    "<code>max_pool(R) = max(R)</code>"
   ]
  },
  {
   "cell_type": "code",
   "execution_count": 42,
   "metadata": {
    "id": "5YIE7BqwDMrH"
   },
   "outputs": [],
   "source": [
    "# 2D Max Pooling with backward pass\n",
    "'''\n",
    "Class functions\n",
    "forward: performs max pooling on the input, reducing the dimensions by selecting the \n",
    "        maximum value within non-overlapping regions.\n",
    "backward: computes gradients for the input tensor during backpropagation. \n",
    "        It uses the max values computed during forward propagation and assigns the incoming gradient to the \n",
    "        location of the maximum value, propagating it back to the corresponding input region.\n",
    "'''\n",
    "class MaxPooling2D:\n",
    "    def __init__(self, pool_size=2):\n",
    "        #Initializes the max pooling layer with a specified pool size\n",
    "        self.pool_size = pool_size\n",
    "        #Variable to store the input for later use in backpropagation\n",
    "        self.input = None\n",
    "\n",
    "    def forward(self, input):\n",
    "        #Store the input for later use in backpropagation\n",
    "        self.input = input\n",
    "        batch_size, h, w, num_filters = input.shape\n",
    "        #Initialize output tensor with reduced dimensions after pooling\n",
    "        output = np.zeros((batch_size, h // self.pool_size, w // self.pool_size, num_filters))\n",
    "\n",
    "        #Perform max pooling operation on input\n",
    "        for b in range(batch_size):\n",
    "            for i in range(0, h, self.pool_size):\n",
    "                for j in range(0, w, self.pool_size):\n",
    "                    #Extract the region of interest and find the maximum value in the region\n",
    "                    output[b, i//self.pool_size, j//self.pool_size] = np.amax(input[b, i:i+self.pool_size, j:j+self.pool_size], axis=(0, 1))\n",
    "        #Return the output tensor after max pooling\n",
    "        return output\n",
    "\n",
    "    def backward(self, gradient):\n",
    "        batch_size, h, w, num_filters = gradient.shape\n",
    "        #Initialize gradients for the input tensor\n",
    "        d_input = np.zeros_like(self.input)\n",
    "\n",
    "        #Compute gradients for input tensor during backpropagation\n",
    "        for b in range(batch_size):\n",
    "            for i in range(0, h * self.pool_size, self.pool_size):\n",
    "                for j in range(0, w * self.pool_size, self.pool_size):\n",
    "                    for f in range(num_filters):\n",
    "                        #Extract the region of interest\n",
    "                        region = self.input[b, i:i+self.pool_size, j:j+self.pool_size, f]\n",
    "                        max_val = np.amax(region)\n",
    "                        #Create a mask of the region with the max value\n",
    "                        mask = (region == max_val)\n",
    "                        #Update gradients for input tensor using the mask and incoming gradient\n",
    "                        d_input[b, i:i+self.pool_size, j:j+self.pool_size, f] += mask * gradient[b, i//self.pool_size, j//self.pool_size, f]\n",
    "        #Return the computed gradients for the input tensor, which will be used for further backpropagation\n",
    "        return d_input"
   ]
  },
  {
   "cell_type": "markdown",
   "metadata": {
    "id": "D5F1qRq7EP6Z"
   },
   "source": [
    "\n",
    "### 2.6 Stochastic Gradient Descent (SGD) Optimization\n",
    "<p>SGD will be used to update the weights based on the gradients computed during backpropagation. The weight update rule is:</p>\n",
    "<code>W<sub>new</sub> = W<sub>old</sub> - &alpha; &times; dW</code>\n",
    "<p>Where <code>&alpha;</code> is the learning rate and <code>dW</code> is the gradient of the loss with respect to the weights.</p>\n"
   ]
  },
  {
   "cell_type": "code",
   "execution_count": 43,
   "metadata": {
    "id": "NcQQrh9dDOzn"
   },
   "outputs": [],
   "source": [
    "#Stochastic Gradient Descent (SGD) Optimization\n",
    "'''\n",
    "Class function\n",
    "update: performs parameter updates for a given layer using the gradients (dw for weights and db for biases) \n",
    "        computed during backpropagation. It adjusts the weights and biases in the opposite direction of the gradients, \n",
    "        scaled by the learning rate, in order to minimize the loss function during training.\n",
    "'''\n",
    "class SGD:\n",
    "    def __init__(self, lr=0.01):\n",
    "        #Initializes the SGD optimizer with a learning rate (default is 0.01)\n",
    "        self.lr = lr\n",
    "\n",
    "    def update(self, layer):\n",
    "        #Update weights and biases of the given layer using the computed gradients and learning rate\n",
    "        layer.weights -= self.lr * layer.dw\n",
    "        layer.biases -= self.lr * layer.db"
   ]
  },
  {
   "cell_type": "markdown",
   "metadata": {
    "id": "8o2eGAcME8BA"
   },
   "source": [
    "# 3. Training and Testing"
   ]
  },
  {
   "cell_type": "markdown",
   "metadata": {
    "id": "I30lGO7nFKdw"
   },
   "source": [
    "### 3.1 Creating the model."
   ]
  },
  {
   "cell_type": "code",
   "execution_count": 44,
   "metadata": {
    "id": "At89xgv5DQ1O"
   },
   "outputs": [],
   "source": [
    "#Combining all the layers into a single CNN model class.\n",
    "'''\n",
    "Class functions\n",
    "forward: performs forward propagation through the model, including convolution, activation, pooling, flattening, and fully connected layer operations. \n",
    "        It computes and returns the loss using Softmax Cross-Entropy loss function.\n",
    "backward: performs backward propagation through the model. It starts by computing gradients using the Softmax Cross-Entropy loss function, \n",
    "        then backpropagates through the fully connected layer, reshapes the gradient, \n",
    "        and further backpropagates through the max pooling layer, ReLU activation, and convolutional layer. \n",
    "        The gradients are used to update the parameters of the model during training.\n",
    "'''\n",
    "class MnistCNN:\n",
    "    def __init__(self):\n",
    "        #Initializes the layers and components of the CNN model for MNIST digit classification\n",
    "        #Convolutional layer with 8 filters and a filter size of 3x3\n",
    "        self.conv = Conv2D(num_filters=8, filter_size=3)\n",
    "        #Max pooling layer with a pool size of 2x2\n",
    "        self.pool = MaxPooling2D(pool_size=2)\n",
    "        #Fully connected (dense) layer with 10 output units (for 10 classes)\n",
    "        self.fc = Linear(13*13*8, 10)\n",
    "        #ReLU activation function\n",
    "        self.relu = ReLU()\n",
    "        #Softmax Cross-Entropy loss activation function for classification\n",
    "        self.loss_activation = SoftmaxCrossEntropy()\n",
    "\n",
    "    def forward(self, x, labels):\n",
    "        #Perform convolution, ReLU activation, max pooling, and flattening\n",
    "        x = self.conv.forward(x)\n",
    "        x = self.relu.forward(x)\n",
    "        x = self.pool.forward(x)\n",
    "        x = x.reshape(x.shape[0], -1)  # Flatten\n",
    "        #Perform forward propagation through the fully connected layer\n",
    "        x = self.fc.forward(x)\n",
    "        #Compute the loss using Softmax Cross-Entropy activation function\n",
    "        loss = self.loss_activation.forward(x, labels)\n",
    "        #Return the computed loss\n",
    "        return loss\n",
    "\n",
    "    def backward(self):\n",
    "        #Compute gradients using Softmax Cross-Entropy loss function\n",
    "        gradient = self.loss_activation.backward()\n",
    "        #Backpropagate through the fully connected layer and reshape the gradient\n",
    "        gradient = self.fc.backward(gradient)\n",
    "        gradient = gradient.reshape(-1, 13, 13, 8)  # Reshape back to match pooling layer shape\n",
    "        #Backpropagate through the max pooling layer, ReLU activation, and convolutional layer\n",
    "        gradient = self.pool.backward(gradient)\n",
    "        gradient = self.relu.backward(gradient)\n",
    "        gradient = self.conv.backward(gradient)\n",
    "        #Not returning anything, as the gradients update the parameters during backpropagation"
   ]
  },
  {
   "cell_type": "markdown",
   "metadata": {
    "id": "jFGAdv-WFUOw"
   },
   "source": [
    "### 3.2 Training the CNN model"
   ]
  },
  {
   "cell_type": "code",
   "execution_count": 45,
   "metadata": {
    "colab": {
     "base_uri": "https://localhost:8080/"
    },
    "id": "kzIZ47gyFU7P",
    "outputId": "2f50560d-ef11-432e-d64f-2c3e106767b5"
   },
   "outputs": [
    {
     "name": "stdout",
     "output_type": "stream",
     "text": [
      "Epoch 1, Loss: 0.13859506146674858\n",
      "Epoch 2, Loss: 0.12858069986739087\n",
      "Epoch 3, Loss: 0.1244833985020946\n",
      "Epoch 4, Loss: 0.12431455666813777\n",
      "Epoch 5, Loss: 0.12578034587651382\n"
     ]
    }
   ],
   "source": [
    "#Create an instance of the MnistCNN model\n",
    "model = MnistCNN()\n",
    "#Instantiate Stochastic Gradient Descent (SGD) optimizer with a learning rate of 0.01v\n",
    "optimizer = SGD(lr=0.01)\n",
    "num_epochs = 5 #Number of epochs (complete passes through the dataset)\n",
    "batch_size = 250 #Batch size for training data\n",
    "\n",
    "#Loop through each epoch for training\n",
    "for epoch in range(num_epochs):\n",
    "    #Iterate through the training data in batches\n",
    "    for i in range(0, len(X_train), batch_size):\n",
    "        #Extract a batch of input samples and their corresponding labels\n",
    "        batch_X = X_train[i:i+batch_size]\n",
    "        batch_y = y_train[i:i+batch_size]\n",
    "\n",
    "        #Forward pass: compute the loss for the current batch\n",
    "        loss = model.forward(batch_X, batch_y)\n",
    "\n",
    "        #Backward pass: compute gradients and update model parameters\n",
    "        model.backward()\n",
    "\n",
    "        #Update the fully connected layer's weights using SGD\n",
    "        optimizer.update(model.fc)\n",
    "\n",
    "    #Print loss for the current epoch\n",
    "    print(f\"Epoch {epoch+1}, Loss: {loss}\")"
   ]
  },
  {
   "cell_type": "markdown",
   "metadata": {
    "id": "87rOTVHSFXew"
   },
   "source": [
    "### 3.3 Testing the model \n",
    "\n",
    "<b>By testing the model, we find the accuracy of the model in classifying the digits in the MNIST dataset</b>"
   ]
  },
  {
   "cell_type": "code",
   "execution_count": 46,
   "metadata": {
    "colab": {
     "base_uri": "https://localhost:8080/",
     "height": 303
    },
    "id": "8Q2FNs5gnPSN",
    "outputId": "d362d84c-f5f4-404a-9ef4-d588793ab50f"
   },
   "outputs": [
    {
     "name": "stdout",
     "output_type": "stream",
     "text": [
      "Test accuracy: 96.44%\n"
     ]
    }
   ],
   "source": [
    "#Initialize a variable to keep track of the number of correct predictions\n",
    "correct_predictions = 0\n",
    "#Iterate through the test dataset\n",
    "for i in range(len(X_test)):\n",
    "    # Reshape the test image to include a batch dimension (1, 28, 28, 1)\n",
    "    test_image = X_test[i].reshape(1, 28, 28, 1)\n",
    "\n",
    "    #Perform forward pass through the convolutional, ReLU, and max pooling layers\n",
    "    pooled_output = model.pool.forward(model.relu.forward(model.conv.forward(test_image)))\n",
    "\n",
    "    # Flatten the output of the pooling layer\n",
    "    flattened_output = pooled_output.reshape(pooled_output.shape[0], -1)\n",
    "\n",
    "    #Perform forward pass through the fully connected layer to get logits\n",
    "    logits = model.fc.forward(flattened_output)\n",
    "    #Compute the predicted class (index with the highest logit score)\n",
    "    prediction = np.argmax(logits)\n",
    "    #Get the true label from the one-hot encoded target vector\n",
    "    true_label = np.argmax(y_test[i])\n",
    "    #Check if the prediction matches the true label\n",
    "    if prediction == true_label:\n",
    "        correct_predictions += 1\n",
    "\n",
    "#Calculate accuracy by dividing the number of correct predictions by the total number of test samples\n",
    "accuracy = correct_predictions / len(X_test)\n",
    "#Print the test accuracy percentage\n",
    "print(f\"Test accuracy: {accuracy*100:.2f}%\")\n"
   ]
  },
  {
   "cell_type": "markdown",
   "metadata": {
    "id": "Af3UlMvDEoIU"
   },
   "source": [
    "# Conclusion\n",
    "- In this implementation, a Convolutional Neural Network (CNN) model for classifying handwritten digits from the MNIST dataset was developed and trained. \n",
    "- The model architecture consists of a convolutional layer followed by ReLU activation, max-pooling, and a fully connected layer with softmax activation for multiclass classification.\n",
    "- The model was trained using the Stochastic Gradient Descent (SGD) optimizer over 5 epochs with a batch size of 250.\n",
    "### Training and testing of the model\n",
    "- During training, the model learned to recognize intricate patterns and features in the input images, enabling it to make accurate predictions.\n",
    "- The training process involved iterative forward and backward passes, adjusting the model's parameters to minimize the softmax cross-entropy loss.\n",
    "- After the training process, the model demonstrated a high level of accuracy on the unseen test dataset, achieving an accuracy of 96.44%.\n",
    "\n",
    "<b>This high test accuracy indicates the effectiveness of the CNN architecture and the optimization techniques used.</b>"
   ]
  },
  {
   "cell_type": "code",
   "execution_count": null,
   "metadata": {},
   "outputs": [],
   "source": []
  }
 ],
 "metadata": {
  "colab": {
   "provenance": []
  },
  "kernelspec": {
   "display_name": "Python 3 (ipykernel)",
   "language": "python",
   "name": "python3"
  },
  "language_info": {
   "codemirror_mode": {
    "name": "ipython",
    "version": 3
   },
   "file_extension": ".py",
   "mimetype": "text/x-python",
   "name": "python",
   "nbconvert_exporter": "python",
   "pygments_lexer": "ipython3",
   "version": "3.11.6"
  }
 },
 "nbformat": 4,
 "nbformat_minor": 4
}
